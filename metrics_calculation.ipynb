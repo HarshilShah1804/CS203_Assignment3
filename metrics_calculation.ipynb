{
 "cells": [
  {
   "cell_type": "markdown",
   "metadata": {},
   "source": [
    "# CS203 - Software Tools and Techniques for AI\n",
    "## Assignment - 3\n",
    "Shah Harshil Hardik (23110132) <br>\n",
    "Shah Tirth (23110295) <br>\n",
    "Group No. 26 "
   ]
  },
  {
   "cell_type": "markdown",
   "metadata": {},
   "source": [
    "### Import the necessary libraries"
   ]
  },
  {
   "cell_type": "code",
   "execution_count": 2,
   "metadata": {},
   "outputs": [],
   "source": [
    "import pandas as pd\n",
    "from sklearn.metrics import cohen_kappa_score\n",
    "from statsmodels.stats.inter_rater import fleiss_kappa\n",
    "from unidecode import unidecode"
   ]
  },
  {
   "cell_type": "markdown",
   "metadata": {},
   "source": [
    "## Fleiss Kappa for CV annotations "
   ]
  },
  {
   "cell_type": "code",
   "execution_count": 57,
   "metadata": {},
   "outputs": [],
   "source": [
    "#Importing the memeber annotations data\n",
    "mem1_cv = pd.read_json('JSON/project-1-at-2025-01-24-10-09-059bafe0.json')\n",
    "mem2_cv = pd.read_json('JSON\\project-3-at-2025-01-24-15-39-88aac066.json')\n",
    "mem3_cv = pd.read_json('JSON\\project-5-at-2025-01-24-19-29-36a76b78.json')"
   ]
  },
  {
   "cell_type": "markdown",
   "metadata": {},
   "source": [
    "### Preprocessing data to remove unnecessary columns"
   ]
  },
  {
   "cell_type": "code",
   "execution_count": 56,
   "metadata": {},
   "outputs": [],
   "source": [
    "#If truck spotted by annotator then truck column value is entered 1 else 0\n",
    "def preprocess(df: pd.DataFrame):\n",
    "    df.drop(columns=['annotator', 'annotation_id', 'created_at', 'updated_at', 'lead_time'], inplace=True)\n",
    "    df['truck'] = df['choice'].apply(lambda x: 1 if x == 'Truck' else 0)"
   ]
  },
  {
   "cell_type": "code",
   "execution_count": 58,
   "metadata": {},
   "outputs": [],
   "source": [
    "preprocess(mem1_cv)\n",
    "preprocess(mem2_cv)\n",
    "preprocess(mem3_cv)"
   ]
  },
  {
   "cell_type": "code",
   "execution_count": 59,
   "metadata": {},
   "outputs": [
    {
     "name": "stdout",
     "output_type": "stream",
     "text": [
      "                                  image  id    choice  truck\n",
      "0   /data/upload/1/b99b4b3e-img_500.jpg   1  No Truck      0\n",
      "1   /data/upload/1/ba99e33d-img_501.jpg   2  No Truck      0\n",
      "2   /data/upload/1/ee510404-img_502.jpg   3  No Truck      0\n",
      "3   /data/upload/1/c75f95aa-img_503.jpg   4     Truck      1\n",
      "4   /data/upload/1/40f58a1c-img_504.jpg   5  No Truck      0\n",
      "5   /data/upload/1/5eef8e28-img_505.jpg   6     Truck      1\n",
      "6   /data/upload/1/f2cc5d00-img_506.jpg   7     Truck      1\n",
      "7   /data/upload/1/bc21f97c-img_507.jpg   8  No Truck      0\n",
      "8   /data/upload/1/fe362848-img_508.jpg   9  No Truck      0\n",
      "9   /data/upload/1/400659c3-img_509.jpg  10     Truck      1\n",
      "10  /data/upload/1/8d6eb3c3-img_510.jpg  11     Truck      1\n",
      "11  /data/upload/1/563de9ba-img_511.jpg  12  No Truck      0\n",
      "12  /data/upload/1/f8d62031-img_512.jpg  13     Truck      1\n",
      "13  /data/upload/1/d7ab765b-img_513.jpg  14     Truck      1\n",
      "14  /data/upload/1/97d6fffc-img_514.jpg  15     Truck      1\n",
      "15  /data/upload/1/6a9f06d0-img_515.jpg  16     Truck      1\n",
      "16  /data/upload/1/eed86f63-img_516.jpg  17  No Truck      0\n",
      "17  /data/upload/1/4bbb4d37-img_517.jpg  18  No Truck      0\n",
      "18  /data/upload/1/76b413f7-img_518.jpg  19  No Truck      0\n",
      "19  /data/upload/1/5ec45188-img_519.jpg  20  No Truck      0\n",
      "                                  image  id    choice  truck\n",
      "0   /data/upload/3/c7e9d861-img_500.jpg   1  No Truck      0\n",
      "1   /data/upload/3/9c9fb27f-img_501.jpg   2  No Truck      0\n",
      "2   /data/upload/3/6eeaf86f-img_502.jpg   3  No Truck      0\n",
      "3   /data/upload/3/460d9fb0-img_503.jpg   4     Truck      1\n",
      "4   /data/upload/3/0019bdf6-img_504.jpg   5  No Truck      0\n",
      "5   /data/upload/3/366f503c-img_505.jpg   6     Truck      1\n",
      "6   /data/upload/3/6cde1a13-img_506.jpg   7     Truck      1\n",
      "7   /data/upload/3/b169bb1a-img_507.jpg   8  No Truck      0\n",
      "8   /data/upload/3/7e714ce3-img_508.jpg   9  No Truck      0\n",
      "9   /data/upload/3/92e56cec-img_509.jpg  10     Truck      1\n",
      "10  /data/upload/3/7bcdd69a-img_510.jpg  11     Truck      1\n",
      "11  /data/upload/3/79a1087b-img_511.jpg  12  No Truck      0\n",
      "12  /data/upload/3/257b5427-img_512.jpg  13     Truck      1\n",
      "13  /data/upload/3/29d9e057-img_513.jpg  14     Truck      1\n",
      "14  /data/upload/3/c0a790b0-img_514.jpg  15  No Truck      0\n",
      "15  /data/upload/3/c6a65692-img_515.jpg  16     Truck      1\n",
      "16  /data/upload/3/a0eeba89-img_516.jpg  17  No Truck      0\n",
      "17  /data/upload/3/b9b340b1-img_517.jpg  18  No Truck      0\n",
      "18  /data/upload/3/56c4d6b5-img_518.jpg  19  No Truck      0\n",
      "19  /data/upload/3/43a96e9f-img_519.jpg  20  No Truck      0\n",
      "                                  image  id    choice  truck\n",
      "0   /data/upload/5/8f6bc141-img_500.jpg  41  No Truck      0\n",
      "1   /data/upload/5/9ed372d2-img_501.jpg  42  No Truck      0\n",
      "2   /data/upload/5/83f5d137-img_502.jpg  43  No Truck      0\n",
      "3   /data/upload/5/c53907f2-img_503.jpg  44     Truck      1\n",
      "4   /data/upload/5/dde0659b-img_504.jpg  45  No Truck      0\n",
      "5   /data/upload/5/b52248c8-img_505.jpg  46     Truck      1\n",
      "6   /data/upload/5/d7176cdd-img_506.jpg  47     Truck      1\n",
      "7   /data/upload/5/6f47b68e-img_507.jpg  48  No Truck      0\n",
      "8   /data/upload/5/75011a44-img_508.jpg  49  No Truck      0\n",
      "9   /data/upload/5/69880d1c-img_509.jpg  50     Truck      1\n",
      "10  /data/upload/5/d78f733d-img_510.jpg  51     Truck      1\n",
      "11  /data/upload/5/57980796-img_511.jpg  52  No Truck      0\n",
      "12  /data/upload/5/13766d20-img_512.jpg  53  No Truck      0\n",
      "13  /data/upload/5/d9da3481-img_513.jpg  54     Truck      1\n",
      "14  /data/upload/5/1a978cf4-img_514.jpg  55     Truck      1\n",
      "15  /data/upload/5/a4cc0df7-img_515.jpg  56     Truck      1\n",
      "16  /data/upload/5/0a801249-img_516.jpg  57  No Truck      0\n",
      "17  /data/upload/5/45f09fab-img_517.jpg  58  No Truck      0\n",
      "18  /data/upload/5/e0b3ebdc-img_518.jpg  59  No Truck      0\n",
      "19  /data/upload/5/a52afe41-img_519.jpg  60  No Truck      0\n"
     ]
    }
   ],
   "source": [
    "print(mem1_cv)\n",
    "print(mem2_cv)\n",
    "print(mem3_cv)"
   ]
  },
  {
   "cell_type": "markdown",
   "metadata": {},
   "source": [
    "### Function to get data for calculating Fleiss Kappa in required format"
   ]
  },
  {
   "cell_type": "code",
   "execution_count": 60,
   "metadata": {},
   "outputs": [],
   "source": [
    "#This function brings the data in the format required by the fleiss_kappa function\n",
    "def get_data(df_list: list):\n",
    "    data = []\n",
    "    for i in range(len(df_list[0])):\n",
    "        truck = no_truck = 0\n",
    "        for j in range(len(df_list)):\n",
    "            if (df_list[j]['truck'][i] == 1):\n",
    "                truck += 1\n",
    "            else:\n",
    "                no_truck += 1\n",
    "        data.append([truck, no_truck])\n",
    "    return data"
   ]
  },
  {
   "cell_type": "code",
   "execution_count": 61,
   "metadata": {},
   "outputs": [
    {
     "name": "stdout",
     "output_type": "stream",
     "text": [
      "Fleiss Kappa = 0.8628571428571427\n"
     ]
    }
   ],
   "source": [
    "#Calculating the fleiss kappa based on the data acquired\n",
    "data = get_data([mem1_cv, mem2_cv, mem3_cv])\n",
    "fleiss_kappa_score = fleiss_kappa(data)\n",
    "print(f\"Fleiss Kappa = {fleiss_kappa_score}\")"
   ]
  },
  {
   "cell_type": "markdown",
   "metadata": {},
   "source": [
    "### Interpretation\n",
    "A fleiss kappa value = 0.863 indicates a high level of agreement among the annotators. Moreover, it implies that there were only few confusing images which had caused diagreement between the annotators. "
   ]
  },
  {
   "cell_type": "markdown",
   "metadata": {},
   "source": [
    "## Cohen's Kappa for NLP"
   ]
  },
  {
   "cell_type": "markdown",
   "metadata": {},
   "source": [
    "### Import the data"
   ]
  },
  {
   "cell_type": "code",
   "execution_count": 65,
   "metadata": {},
   "outputs": [],
   "source": [
    "mem1_nlp = pd.read_json('JSON\\project-4-at-2025-01-24-10-09-da3b5867.json')\n",
    "mem2_nlp = pd.read_json('JSON\\project-9-at-2025-01-24-22-40-c923da3e.json')"
   ]
  },
  {
   "cell_type": "code",
   "execution_count": 62,
   "metadata": {},
   "outputs": [],
   "source": [
    "def preprocess(df: pd.DataFrame):\n",
    "    df.drop(columns=['annotator', 'annotation_id', 'created_at', 'updated_at', 'lead_time'], inplace=True)"
   ]
  },
  {
   "cell_type": "code",
   "execution_count": 66,
   "metadata": {},
   "outputs": [],
   "source": [
    "preprocess(mem1_nlp)\n",
    "preprocess(mem2_nlp)"
   ]
  },
  {
   "cell_type": "code",
   "execution_count": 22,
   "metadata": {},
   "outputs": [],
   "source": [
    "mem1_annotations = []\n",
    "mem2_annotations = []\n",
    "for i in range(len(mem1_nlp)):\n",
    "    assert len(mem1_nlp['label'][i]) ==  len(mem2_nlp['label'][i])\n",
    "    for j in range(len(mem1_nlp['label'][i])):\n",
    "        mem1_annotations.append((unidecode(mem1_nlp['label'][i][j]['text']), mem1_nlp['label'][i][j]['labels']))\n",
    "        mem2_annotations.append((unidecode(mem2_nlp['label'][i][j]['text']), mem2_nlp['label'][i][j]['labels']))\n"
   ]
  },
  {
   "cell_type": "code",
   "execution_count": 23,
   "metadata": {},
   "outputs": [
    {
     "data": {
      "text/plain": [
       "(415, 415)"
      ]
     },
     "execution_count": 23,
     "metadata": {},
     "output_type": "execute_result"
    }
   ],
   "source": [
    "len(mem1_annotations), len(mem2_annotations)"
   ]
  },
  {
   "cell_type": "code",
   "execution_count": 24,
   "metadata": {},
   "outputs": [
    {
     "name": "stdout",
     "output_type": "stream",
     "text": [
      "[('videsh', ['PROPN']), ('mNtraaly', ['PROPN']), (',', ['X']), ('Commerce', ['PROPN']), ('&', ['X']), ('Trade', ['PROPN']), ('aur', ['CONJ']), ('ASSOCHAM', ['PROPN']), ('jaise', ['ADP']), ('iNddsttrii', ['NOUN']), (' ke', ['ADP']), ('sNgtthnoN', ['NOUN']), ('ke', ['ADP']), ('biic', ['ADP']), ('behtr', ['ADJ']), ('taalmel', ['NOUN']), ('aaj', ['ADV']), ('smy', ['NOUN']), ('kii', ['ADP']), ('maaNg', ['NOUN']), ('hai', ['VERB']), (' / ', ['X']), ('purtgaal', ['PROPN']), ('Shri', ['PROPN']), ('Mario', ['PROPN']), (' Soares', ['PROPN']), (' ruup', ['NOUN']), ('mehmaan', ['NOUN']), ('gnntNtr', ['NOUN']), ('divs', ['NOUN']), ('netaa', ['NOUN']), ('pdhaare', ['VERB']), ('the', ['VERB']), (' / ', ['X']), ('ke', ['ADP']), ('meN ', ['ADP']), ('ke', ['ADP']), ('ke', ['ADP']), (' ke', ['ADP']), ('meN ', ['ADP']), ('mhaan', ['ADJ']), ('mukhy', ['ADJ']), ('1992', ['NUM']), ('bhaart', ['PROPN']), ('hmne', ['PROPN']), ('kaatthmaaNdduu', ['PROPN']), ('ko', ['ADP']), ('bhaart', ['PROPN']), ('se', ['ADP']), ('rel', ['NOUN']), ('dvaaraa', ['ADP']), (\"jodd'ne\", ['VERB']), ('ke', ['ADP']), ('project', ['NOUN']), ('ke', ['ADP']), ('DPR', ['PROPN']), ('pr', ['ADP']), (' kaam', ['NOUN']), ('krnaa', ['VERB']), ('shuru', ['VERB']), ('kr', ['VERB']), ('diyaa', ['VERB']), ('hai', ['VERB']), (' / ', ['X']), ('is', ['DET']), ('sNdrbh', ['NOUN']), ('meN', ['ADP']), ('International', ['PROPN']), ('North-South', ['PROPN']), ('Transport', ['PROPN']), ('Corridor', ['PROPN']), ('ke', ['ADP']), ('aNtrgt', ['ADP']), ('hmaaraa', ['PRON']), ('shyog', ['NOUN']), ('hmaarii', ['PRON']), ('shbhaagitaa', ['NOUN']), ('ko', ['ADP']), ('ek', ['NUM']), ('mhtvpuurnn', ['ADJ']), ('dishaa', ['NOUN']), ('prdaan', ['VERB']), ('kregaa', ['VERB']), (' / ', ['X']), ('Eurasian', ['PROPN']), ('Economic', ['PROPN']), ('Union', ['PROPN']), ('vaalii', ['ADJ']), ('aane', ['VERB']), ('ke', ['ADP']), ('saath', ['ADP']), ('FTA', ['PROPN']), ('negotiations', ['NOUN']), ('bhii', ['PART']), ('hmaare', ['PRON']), ('aarthik', ['ADJ']), ('shyog', ['NOUN']), ('ko', ['ADP']), ('aur', ['ADV']), (' bl', ['NOUN']), (' degii', ['VERB']), (' / ', ['X']), ('aphgaanistaan', ['PROPN']), ('Middle', ['PROPN']), ('East', ['PROPN']), ('Asia', ['PROPN']), ('Pacific', ['PROPN']), (',', ['X']), ('tthaa', ['CONJ']), ('pr', ['ADP']), ('donoN', ['NUM']), ('deshoN', ['NOUN']), ('kii', ['ADP']), ('vicaardhaaraaoN', ['NOUN']), ('meN', ['ADP']), ('smaantaa', ['NOUN']), ('hai', ['VERB']), (' / ', ['X']), ('\"', ['X']), ('\"', ['X']), ('\"', ['X']), ('bhaart', ['PROPN']), ('tthaa', ['CONJ']), ('ruus', ['PROPN']), (',', ['X']), ('BRICS', ['PROPN']), ('tthaa', ['CONJ']), ('G-20', ['PROPN']), ('meN', ['ADP']), ('bhii', ['PART']), ('lgaataar', ['ADV']), ('smnvy', ['NOUN']), ('bnaae', ['VERB']), ('hue', ['VERB']), ('haiN', ['VERB']), (' / ', ['X']), ('\"', ['X']), ('Shanghai', ['PROPN']), ('Cooperation', ['PROPN']), ('Organization', ['PROPN']), ('meN', ['ADP']), ('ruus', ['PROPN']), ('ke', ['ADP']), (\"sudRddh'\", ['ADJ']), ('netRtv', ['NOUN']), ('meN', ['ADP']), ('hm', ['PRON']), ('donoN', ['NUM']), ('desh', ['NOUN']), ('kssetriiy', ['ADJ']), ('shyog', ['NOUN']), ('kii', ['ADP']), ('nvrcnaa', ['NOUN']), ('meN', ['ADP']), ('sNlgn', ['VERB']), ('haiN', ['VERB']), (' / ', ['X']), ('aaj', ['ADV']), ('hii', ['PART']), ('yhaaN', ['ADV']), ('prgti', ['PROPN']), ('maidaan', ['PROPN']), ('meN', ['ADP']), ('bn', ['VERB']), ('rhe', ['VERB']), ('International', ['PROPN']), ('Exhibition-cum-Convention', ['PROPN']), ('Centre', ['PROPN']), ('ke', ['ADP']), ('4', ['NUM']), ('prdrshnii', ['NOUN']), ('hoNl', ['NOUN']), ('kaa', ['ADP']), ('lokaarpnn', ['NOUN']), ('bhii', ['PART']), ('huaa', ['VERB']), ('hai', ['VERB']), (' / ', ['X']), ('priority', ['NOUN']), ('programs', ['NOUN']), ('meN', ['ADP']), ('prdhaanmNtrii', ['PROPN']), ('phsl', ['PROPN']), ('biimaa', ['PROPN']), ('yojnaa', ['PROPN']), (',', ['X']), ('diindyaal', ['PROPN']), ('upaadhyaay', ['PROPN']), ('kaushl', ['PROPN']), ('yojnaa', ['PROPN']), (',', ['X']), ('prdhaanmNtrii', ['PROPN']), ('aavaas', ['PROPN']), ('yojnaa', ['PROPN']), ('aur', ['CONJ']), ('digital', ['ADJ']), ('payments', ['NOUN']), (',', ['X']), ('inke', ['PRON']), ('prcaar-prsaar', ['NOUN']), ('ke', ['ADP']), ('lie', ['ADP']), ('bhii', ['PART']), ('award', ['NOUN']), ('die', ['VERB']), ('ge', ['VERB']), (' / ', ['X']), ('is', ['DET']), ('bhuaayaamii', ['ADJ']), ('pryaas', ['NOUN']), ('meN', ['ADP']), ('bhaart', ['PROPN']), ('kii', ['ADP']), ('praathmiktaaoN', ['NOUN']), ('aur', ['CONJ']), ('aavshyktaaoN', ['NOUN']), ('ke', ['ADP']), ('lie', ['ADP']), ('jrmnii', ['PROPN']), ('jaise', ['ADP']), ('technological', ['ADJ']), ('aur', ['CONJ']), ('Economic', ['ADJ']), ('Power', ['NOUN']), ('House', ['NOUN']), ('kii', ['ADP']), ('kssmtaaeN', ['NOUN']), ('upyogii', ['ADJ']), ('hoNgii', ['VERB']), (' / ', ['X']), ('maiN', ['CONJ']), ('Blooming', ['PROPN']), ('Vale', ['PROPN']), ('Public', ['PROPN']), ('School', ['PROPN']), (',', ['X']), ('kottdvaar', ['PROPN']), (',', ['X']), ('uttraakhNdd', ['PROPN']), ('se', ['ADP']), ('kkssaa', ['NOUN']), ('10', ['NUM']), ('kaa', ['ADP']), ('chaatr', ['NOUN']), ('huuN', ['VERB']), (' / ', ['X']), ('maiN', ['PRON']), ('tiinoN', ['NUM']), ('ne', ['ADJ']), ('ddaayloNg', ['NOUN']), ('partners', ['NOUN']), ('-', ['X']), ('saauudii', ['PROPN']), ('arb', ['PROPN']), (',', ['X']), ('Egypt', ['PROPN']), ('aur', ['CONJ']), ('Qatar', ['PROPN']), ('-', ['X']), ('kaa', ['ADP']), ('bhii', ['PART']), ('svaagt', ['VERB']), ('krtaa', ['VERB']), ('huuN', ['VERB']), (' / ', ['X']), ('iiraan', ['PROPN']), ('ke', ['ADP']), ('caabhaar', ['PROPN']), ('port', ['PROPN']), ('meN', ['ADP']), ('hmaaraa', ['PRON']), ('nivesh', ['NOUN']), (',', ['X']), ('aur', ['DET']), ('International', ['PROPN']), ('North-South', ['PROPN']), ('Corridor', ['PROPN']), ('ke', ['ADP']), ('prti', ['ADP']), ('hmaaraa', ['PRON']), ('pryaas', ['NOUN']), (',', ['X']), ('isii', ['PRON']), ('vaastviktaa', ['NOUN']), ('se', ['ADP']), ('prerit', ['NOUN']), ('hai', ['VERB']), (' / ', ['X']), ('oNyl', ['NOUN']), (',', ['X']), ('gais', ['NOUN']), (',', ['X']), ('portt', ['NOUN']), (',', ['X']), ('eyrportt', ['NOUN']), (',', ['X']), ('paavr', ['NOUN']), (',', ['X']), ('aise', ['ADV']), ('kriib', ['ADV']), ('100', ['NUM']), ('assets', ['NOUN']), ('ko', ['ADP']), ('Monetize', ['VERB']), ('krne', ['VERB']), ('kaa', ['ADP']), ('lkssy', ['NOUN']), ('hmne', ['PRON']), ('rkhaa', ['VERB']), ('hai', ['VERB']), (' / ', ['X']), ('GIFT', ['PROPN']), ('City', ['PROPN']), ('meN', ['ADP']), ('aise', ['ADV']), ('sbhii', ['DET']), ('saathiyoN', ['NOUN']), ('kaa', ['ADP']), ('svaagt', ['VERB']), ('hai', ['VERB']), ('aur', ['CONJ']), ('meraa', ['PRON']), ('sujhaav', ['NOUN']), ('hai', ['VERB']), ('International', ['PROPN']), ('Financial', ['PROPN']), ('Centre', ['PROPN']), ('se', ['ADP']), ('bhut', ['ADV']), ('mdd', ['NOUN']), ('milegii', ['VERB']), (' / ', ['X']), ('IIT', ['PROPN']), ('Bombay', ['PROPN']), ('desh', ['NOUN']), ('ke', ['ADP']), ('un', ['DET']), ('sNsthaanoN', ['NOUN']), ('meN', ['ADP']), ('se', ['ADP']), ('hai', ['VERB']), ('jo', ['ADP']), ('New', ['ADJ']), ('India', ['PROPN']), ('kii', ['ADP']), ('New', ['ADJ']), ('Technology', ['NOUN']), ('ke', ['ADP']), ('lie', ['ADP']), ('kaam', ['NOUN']), ('kr', ['VERB']), ('rhaa', ['VERB']), ('hai', ['VERB']), (' / ', ['X']), ('Solar', ['ADJ']), ('Energy', ['NOUN']), ('ke', ['ADP']), ('alaavaa', ['ADP']), ('Biofuel', ['NOUN']), ('bhii', ['PART']), ('aane', ['ADJ']), ('vaale', ['ADJ']), ('smy', ['NOUN']), ('meN', ['ADP']), ('Clean', ['ADJ']), ('Energy', ['NOUN']), ('kaa', ['ADP']), ('ek', ['NUM']), ('bhut', ['ADV']), (\"bdd'aa\", ['ADJ']), ('source', ['NOUN']), ('siddh', ['VERB']), ('hone', ['VERB']), ('vaalaa', ['VERB']), ('hai', ['VERB']), (' / ', ['X']), ('IIT', ['PROPN']), ('ko', ['ADP']), ('desh', ['NOUN']), ('aur', ['CONJ']), ('duniyaa', ['NOUN']), ('Indian', ['ADJ']), ('Institute', ['NOUN']), ('of', ['ADP']), ('Technology', ['NOUN']), ('ke', ['ADP']), ('ruup', ['NOUN']), ('meN', ['ADP']), ('jaantii', ['VERB']), ('hai', ['VERB']), (' / ', ['X']), ('yhii', ['PRON']), ('kaarnn', ['NOUN']), ('hai', ['VERB']), ('ki', ['ADP']), ('hmne', ['PRON']), ('Start', ['PROPN']), ('Up', ['PROPN']), ('India', ['PROPN']), ('aur', ['CONJ']), ('Atal', ['PROPN']), ('Innovation', ['PROPN']), ('Mission', ['PROPN']), ('jaise', ['ADP']), ('abhiyaan', ['NOUN']), ('shuru', ['VERB']), ('kie', ['VERB']), ('haiN', ['VERB']), ('jinke', ['PRON']), ('prinnaam', ['NOUN']), ('ab', ['ADV']), ('milne', ['VERB']), ('lge', ['VERB']), ('haiN', ['VERB']), (' / ', ['X'])]\n",
      "[('videsh', ['NOUN']), ('mNtraaly', ['NOUN']), (',', ['X']), ('Commerce', ['PROPN']), ('&', ['X']), ('Trade', ['PROPN']), ('aur', ['CONJ']), ('ASSOCHAM', ['PROPN']), ('jaise', ['ADP']), ('iNddsttrii', ['NOUN']), ('ke', ['ADP']), ('sNgtthnoN', ['NOUN']), ('ke', ['ADP']), ('biic', ['ADP']), ('behtr', ['ADJ']), ('taalmel', ['NOUN']), ('aaj', ['ADV']), ('smy', ['NOUN']), ('kii', ['ADP']), ('maaNg', ['NOUN']), ('hai', ['VERB']), (' / ', ['X']), ('purtgaal', ['PROPN']), ('Shri', ['PROPN']), ('Mario', ['PROPN']), ('Soares', ['PROPN']), ('ruup', ['NOUN']), ('mehmaan', ['NOUN']), ('gnntNtr', ['PROPN']), ('divs', ['PROPN']), ('netaa', ['NOUN']), ('pdhaare', ['VERB']), ('the', ['VERB']), (' / ', ['X']), ('ke', ['ADP']), ('meN', ['ADP']), ('ke', ['ADP']), ('ke', ['ADP']), ('ke', ['ADP']), ('meN', ['ADP']), ('mhaan', ['ADJ']), ('mukhy', ['ADJ']), ('1992', ['NUM']), ('bhaart', ['PROPN']), ('hmne', ['PRON']), ('kaatthmaaNdduu', ['PROPN']), ('ko', ['ADP']), ('bhaart', ['PROPN']), ('se', ['ADP']), ('rel', ['NOUN']), ('dvaaraa', ['ADP']), (\"jodd'ne\", ['VERB']), ('ke', ['ADP']), ('project', ['NOUN']), ('ke', ['ADP']), ('DPR', ['NOUN']), ('pr', ['ADP']), ('kaam', ['NOUN']), ('krnaa', ['VERB']), ('shuru', ['VERB']), ('kr', ['VERB']), ('diyaa', ['VERB']), ('hai', ['VERB']), (' / ', ['X']), ('is', ['DET']), ('sNdrbh', ['NOUN']), ('meN', ['ADP']), ('International', ['NOUN']), ('North-South', ['PROPN']), ('Transport', ['PROPN']), ('Corridor', ['PROPN']), ('ke', ['ADP']), ('aNtrgt', ['ADP']), ('hmaaraa', ['PRON']), ('shyog', ['NOUN']), ('hmaarii', ['PRON']), ('shbhaagitaa', ['NOUN']), ('ko', ['ADP']), ('ek', ['NUM']), ('mhtvpuurnn', ['ADJ']), ('dishaa', ['NOUN']), ('prdaan', ['VERB']), ('kregaa', ['VERB']), (' / ', ['X']), ('Eurasian', ['PROPN']), ('Economic', ['PROPN']), ('Union', ['PROPN']), ('vaalii', ['ADJ']), ('aane', ['VERB']), ('ke', ['ADP']), ('saath', ['ADP']), ('FTA', ['PROPN']), ('negotiations', ['PROPN']), ('bhii', ['PART']), ('hmaare', ['PRON']), ('aarthik', ['ADJ']), ('shyog', ['NOUN']), ('ko', ['ADP']), ('aur', ['ADV']), (' bl', ['NOUN']), (' degii', ['VERB']), (' / ', ['X']), ('aphgaanistaan', ['PROPN']), ('Middle', ['PROPN']), ('East', ['PROPN']), ('Asia', ['PROPN']), ('Pacific', ['PROPN']), (',', ['X']), ('tthaa', ['CONJ']), ('pr', ['ADP']), ('donoN', ['DET']), ('deshoN', ['NOUN']), ('kii', ['ADP']), ('vicaardhaaraaoN', ['NOUN']), ('meN', ['ADP']), ('smaantaa', ['NOUN']), ('hai', ['VERB']), (' / ', ['X']), ('\"', ['X']), ('\"', ['X']), ('\"', ['X']), ('bhaart', ['PROPN']), ('tthaa', ['CONJ']), ('ruus', ['PROPN']), (',', ['X']), ('BRICS', ['PROPN']), ('tthaa', ['CONJ']), ('G-20', ['PROPN']), ('meN', ['ADP']), ('bhii', ['PART']), ('lgaataar', ['ADV']), ('smnvy', ['NOUN']), ('bnaae', ['VERB']), ('hue', ['VERB']), ('haiN', ['VERB']), (' / ', ['X']), ('\"', ['X']), ('Shanghai', ['PROPN']), ('Cooperation', ['PROPN']), ('Organization', ['PROPN']), ('meN', ['ADP']), ('ruus', ['PROPN']), ('ke', ['ADP']), (\"sudRddh'\", ['ADJ']), ('netRtv', ['NOUN']), ('meN', ['ADP']), ('hm', ['PRON']), ('donoN', ['DET']), ('desh', ['NOUN']), ('kssetriiy', ['ADJ']), ('shyog', ['NOUN']), ('kii', ['ADP']), ('nvrcnaa', ['NOUN']), ('meN', ['ADP']), ('sNlgn', ['VERB']), ('haiN', ['VERB']), (' / ', ['X']), ('aaj', ['ADV']), ('hii', ['PART']), ('yhaaN', ['ADV']), ('prgti', ['PROPN']), ('maidaan', ['PROPN']), ('meN', ['ADP']), ('bn', ['VERB']), ('rhe', ['VERB']), ('International', ['PROPN']), ('Exhibition-cum-Convention', ['PROPN']), ('Centre', ['PROPN']), ('ke', ['ADP']), ('4', ['NUM']), ('prdrshnii', ['NOUN']), ('hoNl', ['NOUN']), ('kaa', ['ADP']), ('lokaarpnn', ['NOUN']), ('bhii', ['PART']), ('huaa', ['VERB']), ('hai', ['VERB']), (' / ', ['X']), ('priority', ['NOUN']), ('programs', ['NOUN']), ('meN', ['ADP']), ('prdhaanmNtrii', ['PROPN']), ('phsl', ['PROPN']), ('biimaa', ['PROPN']), ('yojnaa', ['PROPN']), (',', ['X']), ('diindyaal', ['PROPN']), ('upaadhyaay', ['PROPN']), ('kaushl', ['PROPN']), ('yojnaa', ['PROPN']), (',', ['X']), ('prdhaanmNtrii', ['PROPN']), ('aavaas', ['PROPN']), ('yojnaa', ['PROPN']), ('aur', ['CONJ']), ('digital', ['NOUN']), ('payments', ['NOUN']), (',', ['X']), ('inke', ['PRON']), ('prcaar-prsaar', ['NOUN']), ('ke', ['ADP']), ('lie', ['ADP']), ('bhii', ['PART']), ('award', ['NOUN']), ('die', ['VERB']), ('ge', ['VERB']), (' / ', ['X']), ('is', ['DET']), ('bhuaayaamii', ['ADJ']), ('pryaas', ['NOUN']), ('meN', ['ADP']), ('bhaart', ['PROPN']), ('kii', ['ADP']), ('praathmiktaaoN', ['NOUN']), ('aur', ['CONJ']), ('aavshyktaaoN', ['NOUN']), ('ke', ['ADP']), ('lie', ['ADP']), ('jrmnii', ['PROPN']), ('jaise', ['ADP']), ('technological', ['ADJ']), ('aur', ['CONJ']), ('Economic', ['NOUN']), ('Power', ['NOUN']), ('House', ['NOUN']), ('kii', ['ADP']), ('kssmtaaeN', ['NOUN']), ('upyogii', ['ADJ']), ('hoNgii', ['VERB']), (' / ', ['X']), ('maiN', ['CONJ']), ('Blooming', ['PROPN']), ('Vale', ['PROPN']), ('Public', ['PROPN']), ('School', ['PROPN']), (',', ['X']), ('kottdvaar', ['PROPN']), (',', ['X']), ('uttraakhNdd', ['PROPN']), ('se', ['ADP']), ('kkssaa', ['NOUN']), ('10', ['NUM']), ('kaa', ['ADP']), ('chaatr', ['NOUN']), ('huuN', ['VERB']), (' / ', ['X']), ('maiN', ['PRON']), ('tiinoN', ['PRON']), ('ne', ['ADJ']), ('ddaayloNg', ['NOUN']), ('partners', ['NOUN']), ('-', ['X']), ('saauudii', ['PROPN']), ('arb', ['PROPN']), (',', ['X']), ('Egypt', ['PROPN']), ('aur', ['CONJ']), ('Qatar', ['PROPN']), ('-', ['X']), ('kaa', ['ADP']), ('bhii', ['PART']), ('svaagt', ['VERB']), ('krtaa', ['VERB']), ('huuN', ['VERB']), (' / ', ['X']), ('iiraan', ['PROPN']), ('ke', ['ADP']), ('caabhaar', ['PROPN']), ('port', ['NOUN']), ('meN', ['ADP']), ('hmaaraa', ['PRON']), ('nivesh', ['NOUN']), (',', ['X']), ('aur', ['DET']), ('International', ['PROPN']), ('North-South', ['PROPN']), ('Corridor', ['PROPN']), ('ke', ['ADP']), ('prti', ['ADP']), ('hmaaraa', ['PRON']), ('pryaas', ['NOUN']), (',', ['X']), ('isii', ['PRON']), ('vaastviktaa', ['NOUN']), ('se', ['ADP']), ('prerit', ['VERB']), ('hai', ['VERB']), (' / ', ['X']), ('oNyl', ['NOUN']), (',', ['X']), ('gais', ['NOUN']), (',', ['X']), ('portt', ['NOUN']), (',', ['X']), ('eyrportt', ['NOUN']), (',', ['X']), ('paavr', ['NOUN']), (',', ['X']), ('aise', ['ADV']), ('kriib', ['ADV']), ('100', ['NUM']), ('assets', ['NOUN']), ('ko', ['ADP']), ('Monetize', ['VERB']), ('krne', ['VERB']), ('kaa', ['ADP']), ('lkssy', ['NOUN']), ('hmne', ['PRON']), ('rkhaa', ['VERB']), ('hai', ['VERB']), (' / ', ['X']), ('GIFT', ['PROPN']), ('City', ['PROPN']), ('meN', ['ADP']), ('aise', ['ADV']), ('sbhii', ['DET']), ('saathiyoN', ['NOUN']), ('kaa', ['ADP']), ('svaagt', ['VERB']), ('hai', ['VERB']), ('aur', ['CONJ']), ('meraa', ['PRON']), ('sujhaav', ['NOUN']), ('hai', ['VERB']), ('International', ['PROPN']), ('Financial', ['PROPN']), ('Centre', ['PROPN']), ('se', ['ADP']), ('bhut', ['ADV']), ('mdd', ['VERB']), ('milegii', ['VERB']), (' / ', ['X']), ('IIT', ['PROPN']), ('Bombay', ['PROPN']), ('desh', ['NOUN']), ('ke', ['ADP']), ('un', ['DET']), ('sNsthaanoN', ['NOUN']), ('meN', ['ADP']), ('se', ['ADP']), ('hai', ['VERB']), ('jo', ['PRON']), ('New', ['ADJ']), ('India', ['PROPN']), ('kii', ['ADP']), ('New', ['ADJ']), ('Technology', ['NOUN']), ('ke', ['ADP']), ('lie', ['ADP']), ('kaam', ['NOUN']), ('kr', ['VERB']), ('rhaa', ['VERB']), ('hai', ['VERB']), (' / ', ['X']), ('Solar', ['PROPN']), ('Energy', ['PROPN']), ('ke', ['ADP']), ('alaavaa', ['ADP']), ('Biofuel', ['PROPN']), ('bhii', ['PART']), ('aane', ['ADJ']), ('vaale', ['ADJ']), ('smy', ['NOUN']), ('meN', ['ADP']), ('Clean', ['NOUN']), ('Energy', ['NOUN']), ('kaa', ['ADP']), ('ek', ['NUM']), ('bhut', ['ADV']), (\"bdd'aa\", ['ADJ']), ('source', ['NOUN']), ('siddh', ['VERB']), ('hone', ['VERB']), ('vaalaa', ['VERB']), ('hai', ['VERB']), (' / ', ['X']), ('IIT', ['PROPN']), ('ko', ['ADP']), ('desh', ['NOUN']), ('aur', ['CONJ']), ('duniyaa', ['NOUN']), ('Indian', ['PROPN']), ('Institute', ['PROPN']), ('of', ['ADP']), ('Technology', ['PROPN']), ('ke', ['ADP']), ('ruup', ['NOUN']), ('meN', ['ADP']), ('jaantii', ['VERB']), ('hai', ['VERB']), (' / ', ['X']), ('yhii', ['PRON']), ('kaarnn', ['NOUN']), ('hai', ['VERB']), ('ki', ['ADP']), ('hmne', ['PRON']), ('Start', ['PROPN']), ('Up', ['PROPN']), ('India', ['PROPN']), ('aur', ['CONJ']), ('Atal', ['PROPN']), ('Innovation', ['PROPN']), ('Mission', ['PROPN']), ('jaise', ['ADP']), ('abhiyaan', ['NOUN']), ('shuru', ['VERB']), ('kie', ['VERB']), ('haiN', ['VERB']), ('jinke', ['PRON']), ('prinnaam', ['NOUN']), ('ab', ['ADV']), ('milne', ['VERB']), ('lge', ['VERB']), ('haiN', ['VERB']), (' / ', ['X'])]\n"
     ]
    }
   ],
   "source": [
    "print(mem1_annotations)\n",
    "print(mem2_annotations)"
   ]
  },
  {
   "cell_type": "code",
   "execution_count": 28,
   "metadata": {},
   "outputs": [
    {
     "data": {
      "text/plain": [
       "0.9324301404991757"
      ]
     },
     "execution_count": 28,
     "metadata": {},
     "output_type": "execute_result"
    }
   ],
   "source": [
    "#Calculating the cohen's kappa based on the acquired data\n",
    "l1 = [x[1] for x in mem1_annotations]\n",
    "l2 = [x[1] for x in mem2_annotations]\n",
    "cohen_kappa_score(l1, l2)"
   ]
  },
  {
   "cell_type": "code",
   "execution_count": null,
   "metadata": {},
   "outputs": [],
   "source": []
  }
 ],
 "metadata": {
  "kernelspec": {
   "display_name": "assignment3",
   "language": "python",
   "name": "python3"
  },
  "language_info": {
   "codemirror_mode": {
    "name": "ipython",
    "version": 3
   },
   "file_extension": ".py",
   "mimetype": "text/x-python",
   "name": "python",
   "nbconvert_exporter": "python",
   "pygments_lexer": "ipython3",
   "version": "3.11.7"
  }
 },
 "nbformat": 4,
 "nbformat_minor": 2
}
